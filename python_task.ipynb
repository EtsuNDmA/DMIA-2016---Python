{
 "cells": [
  {
   "cell_type": "markdown",
   "metadata": {},
   "source": [
    "# Python"
   ]
  },
  {
   "cell_type": "markdown",
   "metadata": {},
   "source": [
    "## 1 FizzBuzz"
   ]
  },
  {
   "cell_type": "code",
   "execution_count": 149,
   "metadata": {
    "collapsed": false
   },
   "outputs": [
    {
     "name": "stdout",
     "output_type": "stream",
     "text": [
      "1\n",
      "2\n",
      "Fizz\n",
      "4\n",
      "Buzz\n",
      "Fizz\n",
      "7\n",
      "8\n",
      "Fizz\n",
      "Buzz\n",
      "11\n",
      "Fizz\n",
      "13\n",
      "14\n",
      "FizzBuzz\n",
      "16\n",
      "17\n",
      "Fizz\n",
      "19\n",
      "Buzz\n",
      "Fizz\n",
      "22\n",
      "23\n",
      "Fizz\n",
      "Buzz\n",
      "26\n",
      "Fizz\n",
      "28\n",
      "29\n",
      "FizzBuzz\n",
      "31\n",
      "32\n",
      "Fizz\n",
      "34\n",
      "Buzz\n",
      "Fizz\n",
      "37\n",
      "38\n",
      "Fizz\n",
      "Buzz\n",
      "41\n",
      "Fizz\n",
      "43\n",
      "44\n",
      "FizzBuzz\n",
      "46\n",
      "47\n",
      "Fizz\n",
      "49\n",
      "Buzz\n",
      "Fizz\n",
      "52\n",
      "53\n",
      "Fizz\n",
      "Buzz\n",
      "56\n",
      "Fizz\n",
      "58\n",
      "59\n",
      "FizzBuzz\n",
      "61\n",
      "62\n",
      "Fizz\n",
      "64\n",
      "Buzz\n",
      "Fizz\n",
      "67\n",
      "68\n",
      "Fizz\n",
      "Buzz\n",
      "71\n",
      "Fizz\n",
      "73\n",
      "74\n",
      "FizzBuzz\n",
      "76\n",
      "77\n",
      "Fizz\n",
      "79\n",
      "Buzz\n",
      "Fizz\n",
      "82\n",
      "83\n",
      "Fizz\n",
      "Buzz\n",
      "86\n",
      "Fizz\n",
      "88\n",
      "89\n",
      "FizzBuzz\n",
      "91\n",
      "92\n",
      "Fizz\n",
      "94\n",
      "Buzz\n",
      "Fizz\n",
      "97\n",
      "98\n",
      "Fizz\n",
      "Buzz\n"
     ]
    }
   ],
   "source": [
    "for i in range(1,101):\n",
    "    s = ''\n",
    "    if i%3 == 0:\n",
    "        s='Fizz'\n",
    "    if i%5 == 0:\n",
    "        s+='Buzz'\n",
    "    if not s:\n",
    "        s = i\n",
    "    print(s)"
   ]
  },
  {
   "cell_type": "markdown",
   "metadata": {},
   "source": [
    "# 2 Фиббоначи 100"
   ]
  },
  {
   "cell_type": "code",
   "execution_count": 150,
   "metadata": {
    "collapsed": false
   },
   "outputs": [
    {
     "name": "stdout",
     "output_type": "stream",
     "text": [
      "354224848179261915075\n"
     ]
    }
   ],
   "source": [
    "def fib(n):\n",
    "    a = 0\n",
    "    b = 1\n",
    "    for __ in range(n):\n",
    "        a, b = b, a + b\n",
    "    return a\n",
    "\n",
    "print(fib(100))"
   ]
  },
  {
   "cell_type": "markdown",
   "metadata": {},
   "source": [
    "## 3 Функция сортировки"
   ]
  },
  {
   "cell_type": "code",
   "execution_count": 151,
   "metadata": {
    "collapsed": false
   },
   "outputs": [
    {
     "name": "stdout",
     "output_type": "stream",
     "text": [
      "[-3, -2, 1, 2, 3, 4, 4, 5, 5, 6, 8, 34, 54, 56, 56, 76]\n"
     ]
    }
   ],
   "source": [
    "def qsort(array, start=0, stop=None):\n",
    "    if stop is None:\n",
    "        stop = len(array)-1\n",
    "    if stop > start:\n",
    "        pivot = array[start]\n",
    "        left = start\n",
    "        right = stop\n",
    "        while left <= right:\n",
    "            while array[left] < pivot:\n",
    "                left += 1\n",
    "            while array[right] > pivot:\n",
    "                right -= 1\n",
    "            if left <= right: \n",
    "                array[left], array[right] = array[right], array[left]\n",
    "                left += 1\n",
    "                right -= 1\n",
    "        qsort(array, start, right)\n",
    "        qsort(array, left, stop)\n",
    "        \n",
    "array = [1,4,5,6,8,54,3,2,4,56,76,-2,5,34,-3,56]\n",
    "qsort(array)\n",
    "print(array)"
   ]
  },
  {
   "cell_type": "markdown",
   "metadata": {
    "collapsed": true
   },
   "source": [
    "## 4 Сортировка в одну линию"
   ]
  },
  {
   "cell_type": "code",
   "execution_count": 152,
   "metadata": {
    "collapsed": false
   },
   "outputs": [
    {
     "name": "stdout",
     "output_type": "stream",
     "text": [
      "[-3, -2, 1, 2, 3, 4, 4, 5, 5, 6, 8, 34, 54, 56, 56, 76]\n"
     ]
    }
   ],
   "source": [
    "def qsort_one_line(a):\n",
    "    return qsort_one_line([x for x in a[1:] if x < a[0]])+[a[0]]+qsort_one_line([x for x in a[1:] if x >= a[0]]) if len(a)>1 else a\n",
    "array = [1,4,5,6,8,54,3,2,4,56,76,-2,5,34,-3,56]\n",
    "array = qsort_one_line(array)\n",
    "print(array)"
   ]
  },
  {
   "cell_type": "markdown",
   "metadata": {},
   "source": [
    "# NumPy"
   ]
  },
  {
   "cell_type": "markdown",
   "metadata": {},
   "source": [
    "# 1 Свой аналог numpy.linspace"
   ]
  },
  {
   "cell_type": "code",
   "execution_count": 153,
   "metadata": {
    "collapsed": false
   },
   "outputs": [],
   "source": [
    "import numpy as np\n",
    "from timeit import timeit\n",
    "\n",
    "start, stop, num = 0, 10, 50000"
   ]
  },
  {
   "cell_type": "code",
   "execution_count": 154,
   "metadata": {
    "collapsed": false
   },
   "outputs": [
    {
     "name": "stdout",
     "output_type": "stream",
     "text": [
      "100 loops, best of 3: 2 ms per loop\n"
     ]
    }
   ],
   "source": [
    "%timeit L1 = list(np.linspace(start, stop , num=num))"
   ]
  },
  {
   "cell_type": "code",
   "execution_count": 155,
   "metadata": {
    "collapsed": false
   },
   "outputs": [
    {
     "name": "stdout",
     "output_type": "stream",
     "text": [
      "100 loops, best of 3: 17.4 ms per loop\n"
     ]
    }
   ],
   "source": [
    "%%timeit \n",
    "L2 = []\n",
    "for i in range(num):\n",
    "    L2.append(start+(stop-start)/(num-1)*i)"
   ]
  },
  {
   "cell_type": "code",
   "execution_count": 156,
   "metadata": {
    "collapsed": false
   },
   "outputs": [
    {
     "name": "stdout",
     "output_type": "stream",
     "text": [
      "100 loops, best of 3: 14.5 ms per loop\n"
     ]
    }
   ],
   "source": [
    "%timeit L3 = [start+(stop-start)/(num-1)*i for i in range(num)]"
   ]
  },
  {
   "cell_type": "markdown",
   "metadata": {},
   "source": [
    "## 2 Сравнение ndarray и list "
   ]
  },
  {
   "cell_type": "markdown",
   "metadata": {},
   "source": [
    "Создадим матрицу"
   ]
  },
  {
   "cell_type": "code",
   "execution_count": 169,
   "metadata": {
    "collapsed": false
   },
   "outputs": [
    {
     "name": "stdout",
     "output_type": "stream",
     "text": [
      "The slowest run took 17.76 times longer than the fastest. This could mean that an intermediate result is being cached \n",
      "100000 loops, best of 3: 3.64 µs per loop\n",
      "10000 loops, best of 3: 46.2 µs per loop\n"
     ]
    }
   ],
   "source": [
    "%timeit np.zeros([5000, 5000])\n",
    "%timeit [[0.0]*5000]*5000"
   ]
  },
  {
   "cell_type": "code",
   "execution_count": 170,
   "metadata": {
    "collapsed": false
   },
   "outputs": [],
   "source": [
    "L4 = np.zeros([5000, 5000])\n",
    "L5 = [[0.0]*5000]*5000"
   ]
  },
  {
   "cell_type": "markdown",
   "metadata": {},
   "source": [
    "Возьмем подматрицу"
   ]
  },
  {
   "cell_type": "code",
   "execution_count": 171,
   "metadata": {
    "collapsed": false
   },
   "outputs": [
    {
     "name": "stdout",
     "output_type": "stream",
     "text": [
      "The slowest run took 18.26 times longer than the fastest. This could mean that an intermediate result is being cached \n",
      "1000000 loops, best of 3: 316 ns per loop\n",
      "1000 loops, best of 3: 1.2 ms per loop\n"
     ]
    }
   ],
   "source": [
    "%timeit L4[2:500, 2:500]\n",
    "%timeit [i for i in [row[2:500] for row in L5[2:500]]]"
   ]
  },
  {
   "cell_type": "markdown",
   "metadata": {},
   "source": [
    "Слияние матриц"
   ]
  },
  {
   "cell_type": "code",
   "execution_count": 172,
   "metadata": {
    "collapsed": false
   },
   "outputs": [
    {
     "name": "stdout",
     "output_type": "stream",
     "text": [
      "1 loops, best of 3: 161 ms per loop\n",
      "10000 loops, best of 3: 45.8 µs per loop\n"
     ]
    }
   ],
   "source": [
    "%timeit np.concatenate((L4, L4), axis=0)\n",
    "%timeit L5+L5"
   ]
  },
  {
   "cell_type": "code",
   "execution_count": 173,
   "metadata": {
    "collapsed": false
   },
   "outputs": [
    {
     "name": "stdout",
     "output_type": "stream",
     "text": [
      "10 loops, best of 3: 169 ms per loop\n",
      "1 loops, best of 3: 388 ms per loop\n"
     ]
    }
   ],
   "source": [
    "%timeit np.concatenate((L4, L4), axis=1)\n",
    "%timeit [row1 + row2 for row1, row2 in zip(L5, L5)]"
   ]
  },
  {
   "cell_type": "markdown",
   "metadata": {},
   "source": [
    "# Matplotlib"
   ]
  },
  {
   "cell_type": "code",
   "execution_count": 220,
   "metadata": {
    "collapsed": false
   },
   "outputs": [
    {
     "data": {
      "image/png": "[encoded data removed]",
      "text/plain": [
       "<matplotlib.figure.Figure at 0x1c176a58>"
      ]
     },
     "metadata": {},
     "output_type": "display_data"
    }
   ],
   "source": [
    "%matplotlib inline\n",
    "import matplotlib.pyplot as plt\n",
    "\n",
    "x = np.linspace(0, 10, 100)\n",
    "\n",
    "fig, axes = plt.subplots(nrows=1, ncols=2, figsize=(12, 5))\n",
    "\n",
    "axes[0].plot(x, np.sin(x), label='$\\sin x$')\n",
    "axes[0].plot(x, np.cos(x), label='$\\sin x$')\n",
    "axes[0].plot(x, np.exp(x)/3000, label=r'$e^{\\frac{x}{3000}}$')\n",
    "axes[0].set_xlabel('x')\n",
    "axes[0].set_ylabel('foo(x)')\n",
    "axes[0].legend()\n",
    "\n",
    "axes[1].plot(x, x**2, label='$t^2$')\n",
    "axes[1].plot(x, x**3, label='$t^3$')\n",
    "axes[1].set_xlabel('t')\n",
    "axes[1].set_ylabel('bar(t)')\n",
    "axes[1].legend()\n",
    "plt.savefig('foobar.png')\n",
    "plt.show(fig)"
   ]
  },
  {
   "cell_type": "markdown",
   "metadata": {},
   "source": [
    "# SciPy"
   ]
  },
  {
   "cell_type": "code",
   "execution_count": 278,
   "metadata": {
    "collapsed": false
   },
   "outputs": [
    {
     "name": "stdout",
     "output_type": "stream",
     "text": [
      "Passed. Собс. знач. (-0.759+0.583j) <==> собс. вект. [-0.579+0.j     0.365-0.12j   0.200+0.277j -0.050+0.277j -0.320+0.468j]\n",
      "Passed. Собс. знач. (-0.759-0.583j) <==> собс. вект. [-0.579-0.j     0.365+0.12j   0.200-0.277j -0.050-0.277j -0.320-0.468j]\n",
      "Passed. Собс. знач. (0.45+0.852j) <==> собс. вект. [-0.241+0.158j -0.680+0.j    -0.266-0.321j  0.086-0.446j -0.264+0.067j]\n",
      "Passed. Собс. знач. (0.45-0.852j) <==> собс. вект. [-0.241-0.158j -0.680-0.j    -0.266+0.321j  0.086+0.446j -0.264-0.067j]\n",
      "Passed. Собс. знач. (0.59+0j) <==> собс. вект. [-0.458+0.j  0.246+0.j -0.738+0.j  0.402+0.j  0.150+0.j]\n"
     ]
    }
   ],
   "source": [
    "M = np.random.randn(5, 5)\n",
    "from scipy import linalg\n",
    "W, V = linalg.eig(M)\n",
    "for w, v in zip(W, V.transpose()):\n",
    "    if (np.isclose(np.dot(M, v), v*w)).all():\n",
    "        np.set_printoptions(precision=3)\n",
    "        print('Passed. Собс. знач. {:.3} <==> собс. вект. {}'.format(w, v))\n",
    "    else:\n",
    "        print('Error')\n"
   ]
  }
 ],
 "metadata": {
  "kernelspec": {
   "display_name": "Python 3",
   "language": "python",
   "name": "python3"
  },
  "language_info": {
   "codemirror_mode": {
    "name": "ipython",
    "version": 3
   },
   "file_extension": ".py",
   "mimetype": "text/x-python",
   "name": "python",
   "nbconvert_exporter": "python",
   "pygments_lexer": "ipython3",
   "version": "3.5.2"
  }
 },
 "nbformat": 4,
 "nbformat_minor": 0
}
