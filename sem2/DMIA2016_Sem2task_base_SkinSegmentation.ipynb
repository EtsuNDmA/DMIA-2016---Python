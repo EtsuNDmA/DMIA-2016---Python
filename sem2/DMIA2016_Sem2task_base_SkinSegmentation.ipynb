{
 "cells": [
  {
   "cell_type": "markdown",
   "metadata": {},
   "source": [
    "# Data Mining in Action 2016 (осенний семестр)"
   ]
  },
  {
   "cell_type": "markdown",
   "metadata": {},
   "source": [
    "## Задача на семинар: цветовая сегментация кожи на изображении"
   ]
  },
  {
   "cell_type": "markdown",
   "metadata": {},
   "source": [
    "В этом примере мы построим простой классификатор с использованием библиотеки scikit-learn. В качестве данных мы возьмем выборку из UCI Репозитория (www.archive.ics.uci.edu), связанную с задачей сегментации изображений, а точнее - выделением кожи на фотографиях. \n",
    "\n",
    "В итоге мы получим классификатор, который по RBG представлению цвета пикселя будет пытаться определить, принадлежит пиксель к участку кожи или нет.\n",
    "\n",
    "<img src=\"skin_segmentation2.png\" />\n",
    "\n",
    "Для начала скачаем выборку по следующей ссылке: https://archive.ics.uci.edu/ml/machine-learning-databases/00229/Skin_NonSkin.txt"
   ]
  },
  {
   "cell_type": "code",
   "execution_count": null,
   "metadata": {
    "collapsed": false
   },
   "outputs": [],
   "source": [
    "!curl https://archive.ics.uci.edu/ml/machine-learning-databases/00229/Skin_NonSkin.txt > Skin_NonSkin.txt"
   ]
  },
  {
   "cell_type": "markdown",
   "metadata": {},
   "source": [
    "## Задаем кодировку"
   ]
  },
  {
   "cell_type": "markdown",
   "metadata": {},
   "source": [
    "В Python кодировка файла скрипта задается с помощью так называемого magic comment: # coding: utf-8\n",
    "(либо другая кодировка по необходимости).\n",
    "\n",
    "Волшебный комментарий должен быть в первых двух строчках скрипта, иначе он игнорируется интерпретатором. Добавив этот комментарий в скрипт можно, например, комфортно использовать в коде русскоязычные строки и комментарии. Однако для ipython notebook такой способ не подходит ведь разные блоки кода могут исполняться в разной последовательности. Есть другой способ, им и воспользуемся:"
   ]
  },
  {
   "cell_type": "code",
   "execution_count": null,
   "metadata": {
    "collapsed": false
   },
   "outputs": [],
   "source": [
    "# import sys\n",
    "# reload(sys)\n",
    "# sys.setdefaultencoding(\"utf-8\")"
   ]
  },
  {
   "cell_type": "markdown",
   "metadata": {},
   "source": [
    "После исполнения этого блока проблем с русскоязычными комментариями в коде быть не должно."
   ]
  },
  {
   "cell_type": "markdown",
   "metadata": {},
   "source": [
    "## Чтение выборки"
   ]
  },
  {
   "cell_type": "markdown",
   "metadata": {},
   "source": [
    "Давайте посмотрим на выборку и попробуем понять, какой смысл имеют"
   ]
  },
  {
   "cell_type": "code",
   "execution_count": null,
   "metadata": {
    "collapsed": false
   },
   "outputs": [],
   "source": [
    "dataset_path = \"Skin_NonSkin.txt\"\n",
    "dataset_file = open(dataset_path, 'r')\n",
    "dataset_text = dataset_file.read().split('\\n')\n"
   ]
  },
  {
   "cell_type": "code",
   "execution_count": null,
   "metadata": {
    "collapsed": false
   },
   "outputs": [],
   "source": [
    "dataset = [map(int, line.split('\\t')) for line in dataset_text if len(line) > 0]\n",
    "print dataset[:10]"
   ]
  },
  {
   "cell_type": "code",
   "execution_count": null,
   "metadata": {
    "collapsed": false
   },
   "outputs": [],
   "source": [
    "X = [line[:-1] for line in dataset]\n",
    "y = [line[-1] for line in dataset]\n",
    "\n",
    "print X[:5]\n",
    "\n",
    "#print \"123\",\n",
    "\n",
    "print y[:5]"
   ]
  },
  {
   "cell_type": "code",
   "execution_count": null,
   "metadata": {
    "collapsed": false
   },
   "outputs": [],
   "source": [
    "import numpy as np\n",
    "\n",
    "np.random.seed(0)\n",
    "indices = np.random.permutation(len(X))\n",
    "X = np.array(X)\n",
    "y = np.array(y)\n",
    "test_size = 100000\n",
    "X_train = X[indices[:-test_size]]\n",
    "y_train = y[indices[:-test_size]]\n",
    "X_test  = X[indices[-test_size:]]\n",
    "y_test  = y[indices[-test_size:]]\n",
    "print X.shape"
   ]
  },
  {
   "cell_type": "code",
   "execution_count": null,
   "metadata": {
    "collapsed": false
   },
   "outputs": [],
   "source": [
    "from sklearn.neighbors import KNeighborsClassifier\n",
    "import pandas as pd\n",
    "from tqdm import trange\n",
    "model = [[], []]\n",
    "y_pred = [[], []]\n",
    "score = [[], []]\n",
    "n_neighbors = range(1,11)\n",
    "weights = ['uniform', 'distance']\n",
    "\n",
    "for i in trange(len(n_neighbors)):\n",
    "    model[0].append(KNeighborsClassifier(algorithm='auto', leaf_size=30, metric='minkowski',\n",
    "                                      metric_params=None, n_jobs=1, n_neighbors=n_neighbors[i], p=2,\n",
    "                                      weights=weights[0])\n",
    "                   )\n",
    "    model[1].append(KNeighborsClassifier(algorithm='auto', leaf_size=30, metric='minkowski',\n",
    "                                      metric_params=None, n_jobs=1, n_neighbors=n_neighbors[i], p=2,\n",
    "                                      weights=weights[1])\n",
    "                   )\n",
    "    model[0][i].fit(X_train, y_train)\n",
    "    model[1][i].fit(X_train, y_train)\n",
    "    \n",
    "    y_pred[0].append(model[0][i].predict(X_test))\n",
    "    y_pred[1].append(model[1][i].predict(X_test))\n",
    "    \n",
    "    score[0].append(float(sum(y_test == y_pred[0][i]))/test_size)\n",
    "    score[1].append(float(sum(y_test == y_pred[1][i]))/test_size)\n"
   ]
  },
  {
   "cell_type": "code",
   "execution_count": null,
   "metadata": {
    "collapsed": false
   },
   "outputs": [],
   "source": [
    "df = pd.DataFrame(score, columns=n_neighbors, index=weights)\n",
    "print df"
   ]
  },
  {
   "cell_type": "code",
   "execution_count": null,
   "metadata": {
    "collapsed": false
   },
   "outputs": [],
   "source": [
    "%matplotlib inline\n",
    "import matplotlib.pyplot as plt\n",
    "plt.plot(df.ix[0], label=weights[0])\n",
    "plt.plot(df.ix[1], label=weights[1])\n",
    "plt.legend()\n",
    "plt.show()"
   ]
  },
  {
   "cell_type": "markdown",
   "metadata": {},
   "source": [
    "## Чтение и обработка изображения"
   ]
  },
  {
   "cell_type": "markdown",
   "metadata": {},
   "source": [
    "Для работы с графиками и изображениями в Python есть библиотека Matplotlib. На сайте библиотеки www.matplotlib.org описан API и есть большое количество примеров в разделе gallery. При необходимости построить график можно зайти в галерею, найти визуально картинку, наиболее похожую на нужную и посмотреть код.\n",
    "\n",
    "Но сейчас мы воспользуемся matplotlib для работы с изображением, на котором хотим найти участки кожи. Для начала считаем изображение:"
   ]
  },
  {
   "cell_type": "code",
   "execution_count": null,
   "metadata": {
    "collapsed": false
   },
   "outputs": [],
   "source": [
    "import matplotlib.cbook as cbook\n",
    "\n",
    "image_path = \"nikolaev.jpg\"\n",
    "\n",
    "image_file = open(image_path, 'rb')\n",
    "#image_file = cbook.get_sample_data(image_path)\n",
    "image = plt.imread(image_file)\n",
    "\n",
    "plt.imshow(image)\n",
    "plt.axis('off') # clear x- and y-axes\n",
    "plt.show()"
   ]
  },
  {
   "cell_type": "markdown",
   "metadata": {},
   "source": [
    "Посмотрим, в каком формате хранится изображение в переменой image:"
   ]
  },
  {
   "cell_type": "code",
   "execution_count": null,
   "metadata": {
    "collapsed": false
   },
   "outputs": [],
   "source": [
    "print type(image)"
   ]
  },
  {
   "cell_type": "markdown",
   "metadata": {},
   "source": [
    "Поскольку это массив, попробуем вывести несколько его первых элементов:"
   ]
  },
  {
   "cell_type": "code",
   "execution_count": null,
   "metadata": {
    "collapsed": false
   },
   "outputs": [],
   "source": [
    "print image[:3]"
   ]
  },
  {
   "cell_type": "markdown",
   "metadata": {},
   "source": [
    "Похоже на массив строк пикселей. Каждая строка - массив пикселей, а пиксель - массив из трех чисел - RGB представления цвета пикселя.\n",
    "\n",
    "Обучим наш классификатор на всей обучающей выборке и прогоним классификатор по всем пикселям изображения, заменяя пиксели кожи на ярко зелёные:"
   ]
  },
  {
   "cell_type": "code",
   "execution_count": null,
   "metadata": {
    "collapsed": false
   },
   "outputs": [],
   "source": [
    "X[:,[0,2]] = X[:,[2,0]]\n",
    "model = KNeighborsClassifier(algorithm='auto', leaf_size=30, metric='minkowski',\n",
    "                                      metric_params=None, n_jobs=1, n_neighbors=n_neighbors[3], p=2,\n",
    "                                      weights=weights[1]\n",
    "                             )\n",
    "model.fit(X, y)"
   ]
  },
  {
   "cell_type": "code",
   "execution_count": null,
   "metadata": {
    "collapsed": false
   },
   "outputs": [],
   "source": [
    "for i, line in enumerate(image):\n",
    "    classes = model.predict(line) # predict принимает список объектов\n",
    "    for j, ans in enumerate(classes):\n",
    "        if ans == 1:\n",
    "            image[i, j, 0] = image[i, j, 2] = 0\n",
    "            image[i, j, 1] = 255"
   ]
  },
  {
   "cell_type": "code",
   "execution_count": null,
   "metadata": {
    "collapsed": false
   },
   "outputs": [],
   "source": [
    "plt.imshow(image)\n",
    "plt.show()"
   ]
  },
  {
   "cell_type": "markdown",
   "metadata": {},
   "source": [
    "Не правда ли, какой-то подозрительный результат?"
   ]
  },
  {
   "cell_type": "markdown",
   "metadata": {},
   "source": [
    "## Задание"
   ]
  },
  {
   "cell_type": "markdown",
   "metadata": {},
   "source": [
    "#### На семинаре:\n",
    "\n",
    "1. Выяснить, почему на изображении не выделились участки кожи и исправить ситуацию. Подсказка: читайте документацию библиотек либо пробуйте визуализировать цвета, которые классификатор относит к коже. Блокнот с решением проблемы выложить на github.\n",
    "1. Сравнить качество на отложенной выборке при разном количестве соседей k в kNN (от 1 до 10) и при разных весах во взвешенной версии kNN (см. документацию scikit-learn). \n",
    "1. Блокнот с исправлением детектирования кожи и экспериментами выслать на datamininginaction@gmail.com\n",
    "\n",
    "#### Дополнительные задания (к следующему занятию):\n",
    "\n",
    "1. С помощью matplotlib построить трёхмерную визуализацию выборки и выслать на тот же адрес.\n",
    "1. Разобрать презенташку про numpy, scipy, matplotlib: http://mit.spbau.ru/files/scipy.pdf\n",
    "1. Разобрать Crash Course in Python for scientists."
   ]
  },
  {
   "cell_type": "code",
   "execution_count": null,
   "metadata": {
    "collapsed": false
   },
   "outputs": [],
   "source": [
    "import numpy as np\n",
    "from mpl_toolkits.mplot3d import Axes3D\n",
    "import matplotlib.pyplot as plt\n",
    "\n",
    "color=X/255.\n",
    "\n",
    "fig = plt.figure(figsize=(8,8))\n",
    "ax = fig.add_subplot(111, projection='3d')\n",
    "\n",
    "ax.scatter(X[:, 0], X[:, 1], X[:, 2], s=5, color=color)\n",
    "\n",
    "ax.set_xlabel('Red')\n",
    "ax.set_ylabel('Green')\n",
    "ax.set_zlabel('Blue')\n",
    "\n",
    "plt.savefig('dataset_visualization.png')\n",
    "plt.show()"
   ]
  },
  {
   "cell_type": "code",
   "execution_count": null,
   "metadata": {
    "collapsed": false
   },
   "outputs": [],
   "source": [
    "fig = plt.figure(figsize=(7, 21))\n",
    "ax1 = fig.add_subplot(311)\n",
    "ax1.scatter(X[:, 0], X[:, 1], s=5, color=color)\n",
    "ax1.set_xlabel('Red')\n",
    "ax1.set_ylabel('Green')\n",
    "\n",
    "ax2 = fig.add_subplot(312)\n",
    "ax2.scatter(X[:, 1], X[:, 2], s=5, color=color)\n",
    "ax2.set_xlabel('Green')\n",
    "ax2.set_ylabel('Blue')\n",
    "\n",
    "ax3 = fig.add_subplot(313)\n",
    "ax3.scatter(X[:, 2], X[:, 0], s=5, color=color)\n",
    "ax3.set_xlabel('Blue')\n",
    "ax3.set_ylabel('Red')\n",
    "plt.show()"
   ]
  },
  {
   "cell_type": "code",
   "execution_count": null,
   "metadata": {
    "collapsed": true
   },
   "outputs": [],
   "source": []
  }
 ],
 "metadata": {
  "anaconda-cloud": {},
  "celltoolbar": "Raw Cell Format",
  "kernelspec": {
   "display_name": "Python [conda env:py2_env]",
   "language": "python",
   "name": "conda-env-py2_env-py"
  },
  "language_info": {
   "codemirror_mode": {
    "name": "ipython",
    "version": 2
   },
   "file_extension": ".py",
   "mimetype": "text/x-python",
   "name": "python",
   "nbconvert_exporter": "python",
   "pygments_lexer": "ipython2",
   "version": "2.7.12"
  }
 },
 "nbformat": 4,
 "nbformat_minor": 0
}
