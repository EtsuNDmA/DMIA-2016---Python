{
 "cells": [
  {
   "cell_type": "code",
   "execution_count": 1,
   "metadata": {
    "collapsed": true
   },
   "outputs": [],
   "source": [
    "import numpy as np"
   ]
  },
  {
   "cell_type": "code",
   "execution_count": 53,
   "metadata": {
    "collapsed": false
   },
   "outputs": [
    {
     "name": "stdout",
     "output_type": "stream",
     "text": [
      "[[ 1.  1.  1.]\n",
      " [ 1.  1.  1.]\n",
      " [ 1.  1.  1.]\n",
      " [ 1.  1.  1.]\n",
      " [ 1.  1.  1.]]\n"
     ]
    }
   ],
   "source": [
    "a = np.array(np.ones([5, 3]))\n",
    "ind = np.random.choice(a.shape[0], 2)\n",
    "print a"
   ]
  },
  {
   "cell_type": "code",
   "execution_count": 56,
   "metadata": {
    "collapsed": false
   },
   "outputs": [
    {
     "name": "stdout",
     "output_type": "stream",
     "text": [
      "[1 2 3 4 5]\n",
      "[ 0 -1 -2 -3 -4]\n",
      "[[ 1.  1.  1.]\n",
      " [ 1.  1.  1.]\n",
      " [ 1.  1.  1.]\n",
      " [ 1.  1.  1.]\n",
      " [ 1.  1.  1.]]\n",
      "[[ 1.  1.  1.]\n",
      " [ 2.  2.  2.]\n",
      " [ 3.  3.  3.]\n",
      " [ 4.  4.  4.]\n",
      " [ 5.  5.  5.]]\n"
     ]
    }
   ],
   "source": [
    "b = np.array([1,2,3,4,5])\n",
    "print b\n",
    "print 1-b\n",
    "print a\n",
    "print a*b[:, np.newaxis]"
   ]
  },
  {
   "cell_type": "code",
   "execution_count": 60,
   "metadata": {
    "collapsed": false
   },
   "outputs": [
    {
     "name": "stdout",
     "output_type": "stream",
     "text": [
      "2.5\n"
     ]
    }
   ],
   "source": [
    "c=5\n",
    "c/=float(2)\n",
    "print c"
   ]
  },
  {
   "cell_type": "code",
   "execution_count": 61,
   "metadata": {
    "collapsed": false
   },
   "outputs": [
    {
     "data": {
      "text/plain": [
       "array([1, 4, 9])"
      ]
     },
     "execution_count": 61,
     "metadata": {},
     "output_type": "execute_result"
    }
   ],
   "source": [
    "d = np.array([1,2,3])\n",
    "d**2"
   ]
  },
  {
   "cell_type": "code",
   "execution_count": 88,
   "metadata": {
    "collapsed": false
   },
   "outputs": [
    {
     "data": {
      "text/plain": [
       "array([ 0.,  0.,  0.,  0.,  0.,  5.])"
      ]
     },
     "execution_count": 88,
     "metadata": {},
     "output_type": "execute_result"
    }
   ],
   "source": [
    "e = np.array(np.zeros([5]))\n",
    "np.hstack((e, 5))"
   ]
  },
  {
   "cell_type": "code",
   "execution_count": 163,
   "metadata": {
    "collapsed": true
   },
   "outputs": [],
   "source": [
    "from scipy import sparse\n",
    "X = np.array(np.zeros([8, 5]))\n",
    "X[2, 3] = 1\n",
    "X[3, 4] = 2\n",
    "X = sparse.csr_matrix(X)\n",
    "X = sparse.hstack((X, np.ones(X.shape[0])[:, np.newaxis])).tocsr()"
   ]
  },
  {
   "cell_type": "code",
   "execution_count": 168,
   "metadata": {
    "collapsed": false
   },
   "outputs": [
    {
     "data": {
      "text/plain": [
       "array([[ 0.,  0.,  0.,  0.,  0.,  1.],\n",
       "       [ 0.,  0.,  0.,  0.,  0.,  1.],\n",
       "       [ 0.,  0.,  0.,  1.,  0.,  1.],\n",
       "       [ 0.,  0.,  0.,  0.,  2.,  1.],\n",
       "       [ 0.,  0.,  0.,  0.,  0.,  1.],\n",
       "       [ 0.,  0.,  0.,  0.,  0.,  1.],\n",
       "       [ 0.,  0.,  0.,  0.,  0.,  1.],\n",
       "       [ 0.,  0.,  0.,  0.,  0.,  1.]])"
      ]
     },
     "execution_count": 168,
     "metadata": {},
     "output_type": "execute_result"
    }
   ],
   "source": [
    "X.toarray()"
   ]
  },
  {
   "cell_type": "code",
   "execution_count": 140,
   "metadata": {
    "collapsed": false
   },
   "outputs": [
    {
     "name": "stdout",
     "output_type": "stream",
     "text": [
      "[1 2 0 1 0 1 2]\n",
      "[3 5 4 5 1 2 3]\n",
      "==========\n",
      "[[0 3 5]\n",
      " [4 0 0]\n",
      " [0 5 0]\n",
      " [0 0 0]\n",
      " [1 2 3]]\n",
      "[[ 0 21 40]\n",
      " [24  0  0]\n",
      " [ 0 35  0]\n",
      " [ 0  0  0]\n",
      " [ 6 14 24]]\n"
     ]
    }
   ],
   "source": [
    "Y = sparse.csr_matrix(np.array([[0,3,5],[4,0,0],[0,5,0],[0,0,0],[1,2,3]]))\n",
    "print Y.indices\n",
    "print Y.data\n",
    "print \"=\"*10\n",
    "Z = np.array([6,7,8])\n",
    "print Y.toarray()\n",
    "Y.data  *= Z[Y.indices]\n",
    "print Y.toarray()"
   ]
  },
  {
   "cell_type": "code",
   "execution_count": 196,
   "metadata": {
    "collapsed": false
   },
   "outputs": [
    {
     "name": "stdout",
     "output_type": "stream",
     "text": [
      "[ 2.94309325 -0.77640517  0.92104593]\n",
      "(100, 3)\n",
      "(100L,)\n",
      "[[ 0.  0.  0.]\n",
      " [ 0.  0.  0.]\n",
      " [ 0.  0.  0.]\n",
      " [ 0.  0.  0.]\n",
      " [ 0.  0.  0.]\n",
      " [ 0.  0.  0.]\n",
      " [ 0.  0.  0.]\n",
      " [ 0.  0.  0.]\n",
      " [ 0.  0.  0.]\n",
      " [ 0.  0.  0.]\n",
      " [ 0.  0.  0.]\n",
      " [ 0.  0.  0.]\n",
      " [ 0.  0.  0.]\n",
      " [ 0.  0.  0.]\n",
      " [ 0.  0.  0.]\n",
      " [ 0.  0.  0.]\n",
      " [ 0.  0.  0.]\n",
      " [ 0.  0.  0.]\n",
      " [ 0.  0.  0.]\n",
      " [ 0.  0.  0.]\n",
      " [ 0.  0.  0.]\n",
      " [ 0.  0.  0.]\n",
      " [ 0.  0.  0.]\n",
      " [ 0.  0.  0.]\n",
      " [ 0.  0.  0.]\n",
      " [ 0.  0.  0.]\n",
      " [ 0.  0.  0.]\n",
      " [ 0.  0.  0.]\n",
      " [ 0.  0.  0.]\n",
      " [ 0.  0.  0.]\n",
      " [ 0.  0.  0.]\n",
      " [ 0.  0.  0.]\n",
      " [ 0.  0.  0.]\n",
      " [ 0.  0.  0.]\n",
      " [ 0.  0.  0.]\n",
      " [ 0.  0.  0.]\n",
      " [ 0.  0.  0.]\n",
      " [ 0.  0.  0.]\n",
      " [ 0.  0.  0.]\n",
      " [ 0.  0.  0.]\n",
      " [ 0.  0.  0.]\n",
      " [ 0.  0.  0.]\n",
      " [ 0.  0.  0.]\n",
      " [ 0.  0.  0.]\n",
      " [ 0.  0.  0.]\n",
      " [ 0.  0.  0.]\n",
      " [ 0.  0.  0.]\n",
      " [ 0.  0.  0.]\n",
      " [ 0.  0.  0.]\n",
      " [ 0.  0.  0.]\n",
      " [ 0.  0.  0.]\n",
      " [ 0.  0.  0.]\n",
      " [ 0.  0.  0.]\n",
      " [ 0.  0.  0.]\n",
      " [ 0.  0.  0.]\n",
      " [ 0.  0.  0.]\n",
      " [ 0.  0.  0.]\n",
      " [ 0.  0.  0.]\n",
      " [ 0.  0.  0.]\n",
      " [ 0.  0.  0.]\n",
      " [ 0.  0.  0.]\n",
      " [ 0.  0.  0.]\n",
      " [ 0.  0.  0.]\n",
      " [ 0.  0.  0.]\n",
      " [ 0.  0.  0.]\n",
      " [ 0.  0.  0.]\n",
      " [ 0.  0.  0.]\n",
      " [ 0.  0.  0.]\n",
      " [ 0.  0.  0.]\n",
      " [ 0.  0.  0.]\n",
      " [ 0.  0.  0.]\n",
      " [ 0.  0.  0.]\n",
      " [ 0.  0.  0.]\n",
      " [ 0.  0.  0.]\n",
      " [ 0.  0.  0.]\n",
      " [ 0.  0.  0.]\n",
      " [ 0.  0.  0.]\n",
      " [ 0.  0.  0.]\n",
      " [ 0.  0.  0.]\n",
      " [ 0.  0.  0.]\n",
      " [ 0.  0.  0.]\n",
      " [ 0.  0.  0.]\n",
      " [ 0.  0.  0.]\n",
      " [ 0.  0.  0.]\n",
      " [ 0.  0.  0.]\n",
      " [ 0.  0.  0.]\n",
      " [ 0.  0.  0.]\n",
      " [ 0.  0.  0.]\n",
      " [ 0.  0.  0.]\n",
      " [ 0.  0.  0.]\n",
      " [ 0.  0.  0.]\n",
      " [ 0.  0.  0.]\n",
      " [ 0.  0.  0.]\n",
      " [ 0.  0.  0.]\n",
      " [ 0.  0.  0.]\n",
      " [ 0.  0.  0.]\n",
      " [ 0.  0.  0.]\n",
      " [ 0.  0.  0.]\n",
      " [ 0.  0.  0.]\n",
      " [ 0.  0.  0.]]\n",
      "[[ 0.  0.  0.]]\n"
     ]
    }
   ],
   "source": [
    "def loss(X_batch, y_batch, reg, w):\n",
    "        \"\"\"Logistic Regression loss function\n",
    "        Inputs:\n",
    "        - X: N x D array of data. Data are D-dimensional rows\n",
    "        - y: 1-dimensional array of length N with labels 0-1, for 2 classes\n",
    "        Returns:\n",
    "        a tuple of:\n",
    "        - loss as single float\n",
    "        - gradient with respect to weights w; an array of same shape as w\n",
    "        \"\"\"\n",
    "        dw = np.zeros_like(w)  # initialize the gradient as zero\n",
    "        loss = 0\n",
    "        # Compute loss and gradient. Your code should not contain python loops.\n",
    "        sigma = lambda z: 1/(1+np.exp(-z))\n",
    "        \n",
    "        M = y_batch*X_batch.dot(w)\n",
    "        \n",
    "        loss = np.sum(np.log(1+np.exp(-M)))\n",
    "        \n",
    "        X = X_batch.copy()\n",
    "        X.data *= (sigma(-M)*y_batch)[X.indices]\n",
    "        dw = X.sum(axis=0)\n",
    "        \n",
    "        print X.toarray()\n",
    "        print dw\n",
    "        # Right now the loss is a sum over all training examples, but we want it\n",
    "        # to be an average instead so we divide by num_train.\n",
    "        # Note that the same thing must be done with gradient.\n",
    "        loss /= float(X_batch.shape[0])\n",
    "        dw /= float(X_batch.shape[0])\n",
    "        # Add regularization to the loss and gradient.\n",
    "        # Note that you have to exclude bias term in regularization.\n",
    "        loss += np.sum(reg*w[:-1]**2)\n",
    "        dw += 2*reg*np.hstack((w[:-1], 0))\n",
    "\n",
    "        return loss, np.array(dw.T)\n",
    "\n",
    "X = np.vstack((np.ones([50, 1]), -np.ones([50, 1])))\n",
    "X = np.hstack((np.random.randn(100, 1), X))\n",
    "\n",
    "X = sparse.csr_matrix(X)\n",
    "w = np.random.randn(X.shape[1]+1) * 2\n",
    "y = np.hstack((np.zeros(50),np.ones(50)))\n",
    "\n",
    "X = sparse.hstack((X, np.ones(X.shape[0])[:, np.newaxis])).tocsr()\n",
    "\n",
    "print w\n",
    "print X.shape\n",
    "print y.shape\n",
    "loss, grad = loss(X, y, 0.5, w)\n"
   ]
  },
  {
   "cell_type": "code",
   "execution_count": 230,
   "metadata": {
    "collapsed": false
   },
   "outputs": [
    {
     "name": "stdout",
     "output_type": "stream",
     "text": [
      "[[5 5 0 5 0 0 0]\n",
      " [6 6 0 6 0 0 0]]\n"
     ]
    }
   ],
   "source": [
    "X = sparse.csr_matrix([[1,1,0,1,0,0,0],[1,1,0,1,0,0,0]])\n",
    "X = X.tocsc()\n",
    "z = np.array([5,6,7,4,5,6,7])\n",
    "X.data *= z[X.indices] \n",
    "print X.toarray()"
   ]
  },
  {
   "cell_type": "code",
   "execution_count": null,
   "metadata": {
    "collapsed": true
   },
   "outputs": [],
   "source": [
    "a=np.random.randn(1,2)"
   ]
  }
 ],
 "metadata": {
  "kernelspec": {
   "display_name": "Python [conda env:py27_env]",
   "language": "python",
   "name": "conda-env-py27_env-py"
  },
  "language_info": {
   "codemirror_mode": {
    "name": "ipython",
    "version": 2
   },
   "file_extension": ".py",
   "mimetype": "text/x-python",
   "name": "python",
   "nbconvert_exporter": "python",
   "pygments_lexer": "ipython2",
   "version": "2.7.12"
  }
 },
 "nbformat": 4,
 "nbformat_minor": 1
}
