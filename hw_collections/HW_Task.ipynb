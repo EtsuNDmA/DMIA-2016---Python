{
 "cells": [
  {
   "cell_type": "markdown",
   "metadata": {},
   "source": [
    "### Входные данные\n",
    "Форма для сдачи: https://goo.gl/forms/qptFQ1ukuCxeMEA63\n",
    "\n",
    "У вас имеется поток данных (генератор data_stream). Поля это случайные величины - так сделано для упрощения генерации данных. Есть три поля (названы по уровню сложности задания)\n",
    "\n",
    "### Задание\n",
    "#####Мотивация:\n",
    "У вас есть куча временных рядов, вы хотите научиться предсказывать следующее значение по 1000 предыдущим. 1000 признаков окна это слишком много, однако вы решили заменить их 5ю: средним, дисперсией, минимумом, медианой и максимумом. Однако, все эти признаки надо подсчитать, причём хочется уметь это делать быстро (в течение часа)\n",
    "#####Для каждого поля нужно сделать следующее:\n",
    "\n",
    "1. Пробежаться по данным окном размера 1000 (окно сдвигается на 1, то есть следующее окно пересекается с предыдущим по 999 элементам).\n",
    "\n",
    "2. Для каждого окна посчитайте среднее значение поля и его дисперсию. Делайте yield этих значений, получая генератор tuple. \n",
    "\n",
    "3. Для каждого окна найдине минимум, медиану и максимум в нём. Делайте yield этих значений, получая генератор tuple. \n",
    "\n",
    "Ответом, который нужно будет засабмитить в гугл форму, является среднее значение tuple по получившемуся потоку, округлённое до 3 знака после запятой.\n",
    "\n",
    "### Замечания\n",
    "\n",
    "1. Обратите внимания как генерируются поля. Постарайтесь понять особенность каждого поля и как это можно использовать. Желательно, чтобы для каждого поля у вас было своё решение, максимально эффективно использующее знание об этом поле.\n",
    "2. Полезные библиотеки: itertools, numpy, collections + всё что найдёте в интернете и можно поставить через pip install\n",
    "\n",
    "\n",
    "\n",
    "Если измерять время работы функций временем работы функции example, то примерное время работы такое:\n",
    "Одновременно среднее, дисперсия - 1.17\n",
    "Одновременно минимум, максимум и медиана:easy - 0.87\n",
    "medium - 2.11\n",
    "nightmare - 2.85\n"
   ]
  },
  {
   "cell_type": "markdown",
   "metadata": {},
   "source": [
    "#### Генерация данных"
   ]
  },
  {
   "cell_type": "code",
   "execution_count": 23,
   "metadata": {
    "collapsed": false
   },
   "outputs": [],
   "source": [
    "from collections import namedtuple\n",
    "import random\n",
    "\n",
    "Record = namedtuple('Record', 'easy medium nightmare')\n",
    "\n",
    "def data_stream():\n",
    "    random_generator = random.Random(42)\n",
    "    easy = 0\n",
    "    for _ in xrange(10000000):\n",
    "        easy += random_generator.randint(0, 2) # Неубывает\n",
    "        medium = random_generator.randint(0, 256 - 1) # Можно уложить в uint8\n",
    "        nightmare = random_generator.randint(0, 1000000000 - 1) # Влезет в uint32\n",
    "        \n",
    "        yield Record(\n",
    "            easy=easy,\n",
    "            medium=medium,\n",
    "            nightmare=nightmare\n",
    "        )\n",
    "        \n",
    "def easy_stream():\n",
    "    for record in data_stream():\n",
    "        yield record.easy\n",
    "        \n",
    "def medium_stream():\n",
    "    for record in data_stream():\n",
    "        yield record.medium\n",
    "        \n",
    "def nightmare_stream():\n",
    "    for record in data_stream():\n",
    "        yield record.nightmare"
   ]
  },
  {
   "cell_type": "markdown",
   "metadata": {},
   "source": [
    "#### Подсчёт среднего значения tuple по потоку"
   ]
  },
  {
   "cell_type": "code",
   "execution_count": 24,
   "metadata": {
    "collapsed": false
   },
   "outputs": [],
   "source": [
    "import numpy as np\n",
    "\n",
    "def get_tuple_stream_mean(stream, number_of_values):\n",
    "    result = np.zeros(number_of_values, dtype='object')\n",
    "    count = 0. \n",
    "    for streamed_tuple in stream:\n",
    "        result += streamed_tuple\n",
    "        count += 1\n",
    "    return [round(x, 3) for x in result / count]"
   ]
  },
  {
   "cell_type": "code",
   "execution_count": 15,
   "metadata": {
    "collapsed": false
   },
   "outputs": [
    {
     "name": "stdout",
     "output_type": "stream",
     "text": [
      "[4998568.825, 4998578.825]\n",
      "Wall time: 2min 22s\n"
     ]
    }
   ],
   "source": [
    "%%time\n",
    "def example(stream):\n",
    "    for value in stream:\n",
    "        yield (value, value + 10)\n",
    "print get_tuple_stream_mean(example(easy_stream()), 2)"
   ]
  },
  {
   "cell_type": "code",
   "execution_count": 27,
   "metadata": {
    "collapsed": false
   },
   "outputs": [],
   "source": [
    "from collections import deque\n",
    "def movmean(stream, N):\n",
    "    assert N == int(N) and N > 0, \"N must be an integer >0\"\n",
    "    sum1 = 0\n",
    "    sum2 = 0\n",
    "    queue=deque([(0.0, 0.0)]*N)\n",
    "    for val in stream:\n",
    "        sum1 += val\n",
    "        sum2 += val**2\n",
    "        queue.append((sum1, sum2))\n",
    "        s1, s2 = queue.popleft()\n",
    "        yield (sum1-s1)/float(N), (sum2-s2)/float(N)-(sum1-s1)**2/float(N**2)"
   ]
  },
  {
   "cell_type": "code",
   "execution_count": 30,
   "metadata": {
    "collapsed": false
   },
   "outputs": [
    {
     "name": "stdout",
     "output_type": "stream",
     "text": [
      "(0.0, 0.0)\n",
      "(0.5, 0.25)\n",
      "(1.5, 0.25)\n",
      "(2.5, 0.25)\n",
      "(3.5, 0.25)\n",
      "(4.5, 0.25)\n",
      "(5.5, 0.25)\n",
      "(6.5, 0.25)\n",
      "(7.5, 0.25)\n",
      "(8.5, 0.25)\n",
      "0.0 0.0\n",
      "0.5 0.25\n",
      "1.5 0.25\n",
      "2.5 0.25\n",
      "3.5 0.25\n",
      "4.5 0.25\n",
      "5.5 0.25\n",
      "6.5 0.25\n",
      "7.5 0.25\n",
      "8.5 0.25\n"
     ]
    }
   ],
   "source": [
    "for i in movmean([x for x in range(10)], 2):\n",
    "    print i\n",
    "_list = [x for x in range(10)]\n",
    "for i,val in enumerate(_list):\n",
    "    if i>=1:\n",
    "        print (_list[i]+_list[i-1])/2., (_list[i]**2+_list[i-1]**2)/2.0-((_list[i]+_list[i-1])/2.0)**2\n",
    "    else:\n",
    "        print 0.0, 0.0"
   ]
  },
  {
   "cell_type": "code",
   "execution_count": 31,
   "metadata": {
    "collapsed": false
   },
   "outputs": [],
   "source": [
    "l = [i for i in movmean(easy_stream(), 1000)]"
   ]
  },
  {
   "cell_type": "code",
   "execution_count": 33,
   "metadata": {
    "collapsed": false
   },
   "outputs": [
    {
     "name": "stdout",
     "output_type": "stream",
     "text": [
      "10000000\n",
      "[(9996324.204, 85945.046875), (9996325.199, 85976.484375), (9996326.194, 86009.921875), (9996327.188, 86042.34375), (9996328.183, 86073.828125), (9996329.178, 86107.28125), (9996330.171, 86140.6875), (9996331.165, 86173.15625), (9996332.159, 86203.65625), (9996333.153, 86236.15625)]\n",
      "(525.232, 92327.67617600004)\n"
     ]
    }
   ],
   "source": [
    "print len(l)\n",
    "print l[-10:]\n",
    "print l[1001]"
   ]
  }
 ],
 "metadata": {
  "anaconda-cloud": {},
  "kernelspec": {
   "display_name": "Python [default]",
   "language": "python",
   "name": "python2"
  },
  "language_info": {
   "codemirror_mode": {
    "name": "ipython",
    "version": 2
   },
   "file_extension": ".py",
   "mimetype": "text/x-python",
   "name": "python",
   "nbconvert_exporter": "python",
   "pygments_lexer": "ipython2",
   "version": "2.7.12"
  }
 },
 "nbformat": 4,
 "nbformat_minor": 0
}
