{
 "cells": [
  {
   "cell_type": "markdown",
   "metadata": {},
   "source": [
    "### Входные данные\n",
    "Форма для сдачи: https://goo.gl/forms/qptFQ1ukuCxeMEA63\n",
    "\n",
    "У вас имеется поток данных (генератор data_stream). Поля это случайные величины - так сделано для упрощения генерации данных. Есть три поля (названы по уровню сложности задания)\n",
    "\n",
    "### Задание\n",
    "#####Мотивация:\n",
    "У вас есть куча временных рядов, вы хотите научиться предсказывать следующее значение по 1000 предыдущим. 1000 признаков окна это слишком много, однако вы решили заменить их 5ю: средним, дисперсией, минимумом, медианой и максимумом. Однако, все эти признаки надо подсчитать, причём хочется уметь это делать быстро (в течение часа)\n",
    "#####Для каждого поля нужно сделать следующее:\n",
    "\n",
    "1. Пробежаться по данным окном размера 1000 (окно сдвигается на 1, то есть следующее окно пересекается с предыдущим по 999 элементам).\n",
    "\n",
    "2. Для каждого окна посчитайте среднее значение поля и его дисперсию. Делайте yield этих значений, получая генератор tuple. \n",
    "\n",
    "3. Для каждого окна найдине минимум, медиану и максимум в нём. Делайте yield этих значений, получая генератор tuple. \n",
    "\n",
    "Ответом, который нужно будет засабмитить в гугл форму, является среднее значение tuple по получившемуся потоку, округлённое до 3 знака после запятой.\n",
    "\n",
    "### Замечания\n",
    "\n",
    "1. Обратите внимания как генерируются поля. Постарайтесь понять особенность каждого поля и как это можно использовать. Желательно, чтобы для каждого поля у вас было своё решение, максимально эффективно использующее знание об этом поле.\n",
    "2. Полезные библиотеки: itertools, numpy, collections + всё что найдёте в интернете и можно поставить через pip install\n",
    "\n",
    "\n",
    "\n",
    "Если измерять время работы функций временем работы функции example, то примерное время работы такое:\n",
    "Одновременно среднее, дисперсия - 1.17\n",
    "Одновременно минимум, максимум и медиана:easy - 0.87\n",
    "medium - 2.11\n",
    "nightmare - 2.85\n"
   ]
  },
  {
   "cell_type": "markdown",
   "metadata": {},
   "source": [
    "#### Генерация данных"
   ]
  },
  {
   "cell_type": "code",
   "execution_count": 1,
   "metadata": {
    "collapsed": false
   },
   "outputs": [],
   "source": [
    "from collections import namedtuple\n",
    "import random\n",
    "\n",
    "Record = namedtuple('Record', 'easy medium nightmare')\n",
    "\n",
    "def data_stream():\n",
    "    random_generator = random.Random(42)\n",
    "    easy = 0\n",
    "    for _ in xrange(10000000):\n",
    "        easy += random_generator.randint(0, 2) # Неубывает\n",
    "        medium = random_generator.randint(0, 256 - 1) # Можно уложить в uint8\n",
    "        nightmare = random_generator.randint(0, 1000000000 - 1)\n",
    "        \n",
    "        yield Record(\n",
    "            easy=easy,\n",
    "            medium=medium,\n",
    "            nightmare=nightmare\n",
    "        )\n",
    "        \n",
    "def easy_stream():\n",
    "    for record in data_stream():\n",
    "        yield record.easy\n",
    "        \n",
    "def medium_stream():\n",
    "    for record in data_stream():\n",
    "        yield record.medium\n",
    "        \n",
    "def nightmare_stream():\n",
    "    for record in data_stream():\n",
    "        yield record.nightmare"
   ]
  },
  {
   "cell_type": "markdown",
   "metadata": {},
   "source": [
    "#### Подсчёт среднего значения tuple по потоку"
   ]
  },
  {
   "cell_type": "code",
   "execution_count": 2,
   "metadata": {
    "collapsed": false
   },
   "outputs": [],
   "source": [
    "import numpy as np\n",
    "\n",
    "def get_tuple_stream_mean(stream, number_of_values):\n",
    "    result = np.zeros(number_of_values, dtype='object')\n",
    "    count = 0. \n",
    "    for streamed_tuple in stream:\n",
    "        result += streamed_tuple\n",
    "        count += 1\n",
    "    return [round(x, 3) for x in result / count]"
   ]
  },
  {
   "cell_type": "code",
   "execution_count": 3,
   "metadata": {
    "collapsed": false
   },
   "outputs": [
    {
     "name": "stdout",
     "output_type": "stream",
     "text": [
      "[4998568.825, 4998578.825]\n",
      "Wall time: 2min 18s\n"
     ]
    }
   ],
   "source": [
    "%%time\n",
    "def example(stream):\n",
    "    for value in stream:\n",
    "        yield (value, value + 10)\n",
    "print get_tuple_stream_mean(example(easy_stream()), 2)"
   ]
  },
  {
   "cell_type": "code",
   "execution_count": 4,
   "metadata": {
    "collapsed": false
   },
   "outputs": [],
   "source": [
    "from collections import deque\n",
    "def movmean(stream, N):\n",
    "    assert N == int(N) and N > 0, \"N must be an integer >0\"\n",
    "    fN = float(N)\n",
    "    sum1 = 0\n",
    "    sum2 = 0\n",
    "    queue=deque([(0, 0)]*N)\n",
    "    for val in stream:\n",
    "        sum1 += val\n",
    "        sum2 += val*val\n",
    "        queue.append((sum1, sum2))\n",
    "        s1, s2 = queue.popleft()\n",
    "        mean = (sum1-s1)/fN\n",
    "        variance = (sum2-s2)/fN-mean**2\n",
    "        yield mean, variance"
   ]
  },
  {
   "cell_type": "code",
   "execution_count": 5,
   "metadata": {
    "collapsed": false
   },
   "outputs": [
    {
     "name": "stdout",
     "output_type": "stream",
     "text": [
      "(0.0, 0.0)\n",
      "(0.5, 0.25)\n",
      "(1.5, 0.25)\n",
      "(2.5, 0.25)\n",
      "(3.5, 0.25)\n",
      "(4.5, 0.25)\n",
      "(5.5, 0.25)\n",
      "(6.5, 0.25)\n",
      "(7.5, 0.25)\n",
      "(8.5, 0.25)\n",
      "0.0 0.0\n",
      "0.5 0.25\n",
      "1.5 0.25\n",
      "2.5 0.25\n",
      "3.5 0.25\n",
      "4.5 0.25\n",
      "5.5 0.25\n",
      "6.5 0.25\n",
      "7.5 0.25\n",
      "8.5 0.25\n"
     ]
    }
   ],
   "source": [
    "# Test\n",
    "for i in movmean([x for x in range(10)], 2):\n",
    "    print i\n",
    "_list = [x for x in range(10)]\n",
    "for i,val in enumerate(_list):\n",
    "    if i>=1:\n",
    "        print (_list[i]+_list[i-1])/2., (_list[i]**2+_list[i-1]**2)/2.0-((_list[i]+_list[i-1])/2.0)**2\n",
    "    else:\n",
    "        print 0.0, 0.0"
   ]
  },
  {
   "cell_type": "code",
   "execution_count": 6,
   "metadata": {
    "collapsed": false
   },
   "outputs": [],
   "source": [
    "def easyminmaxmed(stream, N):\n",
    "    assert N == int(N) and N > 0, \"N must be an integer >0\"\n",
    "    fN = float(N)\n",
    "    queue=deque([0]*(N-1))\n",
    "    for val in stream:\n",
    "        \n",
    "        queue.append(val)\n",
    "        max_ = val\n",
    "        if N%2 == 0:\n",
    "            n = N/2\n",
    "            med_ = (queue[n-1]+queue[n])/2.0\n",
    "        else:\n",
    "            med_ = float(queue[N/2])    \n",
    "        min_ = queue.popleft()\n",
    "        yield min_, med_, max_"
   ]
  },
  {
   "cell_type": "code",
   "execution_count": 7,
   "metadata": {
    "collapsed": false
   },
   "outputs": [
    {
     "name": "stdout",
     "output_type": "stream",
     "text": [
      "(0, 0.0, 0)\n",
      "(0, 0.0, 1)\n",
      "(0, 0.5, 2)\n",
      "(0, 1.5, 3)\n",
      "(1, 2.5, 4)\n",
      "(2, 3.5, 5)\n",
      "(3, 4.5, 6)\n",
      "(4, 5.5, 7)\n",
      "(5, 6.5, 8)\n",
      "(6, 7.5, 9)\n",
      "Tututut\n",
      "Tututut\n",
      "0 1.0 2\n",
      "1 2.0 3\n",
      "2 3.0 4\n",
      "3 4.0 5\n",
      "4 5.0 6\n",
      "5 6.0 7\n",
      "6 7.0 8\n",
      "7 8.0 9\n"
     ]
    }
   ],
   "source": [
    "# Test\n",
    "for i in easyminmaxmed([x for x in range(10)], 4):\n",
    "    print i\n",
    "_list = [x for x in range(10)]\n",
    "for i,val in enumerate(_list):\n",
    "    if i>=2:\n",
    "        print min(_list[i-2:i+1]),  np.median(_list[i-2:i+1]), max(_list[i-2:i+1])\n",
    "    else:\n",
    "        print \"Tututut\""
   ]
  },
  {
   "cell_type": "code",
   "execution_count": 8,
   "metadata": {
    "collapsed": true
   },
   "outputs": [],
   "source": [
    "import bisect\n",
    "def mediumminmaxmed(stream, N):\n",
    "    assert N == int(N) and N > 0, \"N must be an integer >0\"\n",
    "    sorted_list = [0]*(N-1)\n",
    "    queue = deque(sorted_list)\n",
    "    for val in stream:\n",
    "        # Вставляем элемент в очередь и в отсортированный список\n",
    "        bisect.insort(sorted_list, val)\n",
    "        queue.append(val)\n",
    "        # Максимум в правом конце отсортированного списка\n",
    "        max_ = sorted_list[-1]\n",
    "        # медиана в середине\n",
    "        if N%2 == 0:\n",
    "            n = N/2\n",
    "            med_ = (sorted_list[n-1]+sorted_list[n])/2.0\n",
    "        else:\n",
    "            med_ = float(sorted_list[N/2]) \n",
    "        # Минимум в левом конце\n",
    "        min_ = sorted_list[0]\n",
    "        sorted_list.remove(queue.popleft())\n",
    "        yield min_, med_, max_"
   ]
  },
  {
   "cell_type": "code",
   "execution_count": 9,
   "metadata": {
    "collapsed": false
   },
   "outputs": [
    {
     "name": "stdout",
     "output_type": "stream",
     "text": [
      "(0, 0.0, 1)\n",
      "(0, 1.0, 3)\n",
      "(1, 3.0, 5)\n",
      "(3, 4.0, 5)\n",
      "(2, 4.0, 5)\n",
      "(2, 4.0, 7)\n",
      "(2, 7.0, 9)\n",
      "(7, 8.0, 9)\n",
      "(6, 8.0, 9)\n",
      "(0, 6.0, 8)\n",
      "Tututut\n",
      "Tututut\n",
      "1 3.0 5\n",
      "3 4.0 5\n",
      "2 4.0 5\n",
      "2 4.0 7\n",
      "2 7.0 9\n",
      "7 8.0 9\n",
      "6 8.0 9\n",
      "0 6.0 8\n"
     ]
    }
   ],
   "source": [
    "# Test\n",
    "for i in mediumminmaxmed([1,3,5,4,2,7,9,8,6,0], 3):\n",
    "    print i\n",
    "_list = [1,3,5,4,2,7,9,8,6,0]\n",
    "for i,val in enumerate(_list):\n",
    "    if i>=2:\n",
    "        print min(_list[i-2:i+1]),  np.median(_list[i-2:i+1]), max(_list[i-2:i+1])\n",
    "    else:\n",
    "        print \"Tututut\""
   ]
  },
  {
   "cell_type": "code",
   "execution_count": 10,
   "metadata": {
    "collapsed": false
   },
   "outputs": [
    {
     "name": "stdout",
     "output_type": "stream",
     "text": [
      "Mean and variance for different streams\n",
      "Easy:  [4998069.5, 83384.969]\n",
      "Medium:  [127.487, 5452.51]\n",
      "Nightmare:  [499884857.662, 8.322319064793309e+16]\n",
      "Wall time: 8min 1s\n"
     ]
    }
   ],
   "source": [
    "%%time\n",
    "print \"Mean and variance for different streams\"\n",
    "easy_tuple = get_tuple_stream_mean(movmean(easy_stream(), 1000), 2)\n",
    "print \"Easy: \", easy_tuple\n",
    "medium_tuple = get_tuple_stream_mean(movmean(medium_stream(), 1000), 2)\n",
    "print \"Medium: \", medium_tuple\n",
    "nightmare_tuple = get_tuple_stream_mean(movmean(nightmare_stream(), 1000), 2)\n",
    "print \"Nightmare: \", nightmare_tuple"
   ]
  },
  {
   "cell_type": "code",
   "execution_count": 11,
   "metadata": {
    "collapsed": false
   },
   "outputs": [
    {
     "name": "stdout",
     "output_type": "stream",
     "text": [
      "easy_stream min med max [4997570.192, 4998069.496, 4998568.825]\n",
      "Wall time: 2min 24s\n"
     ]
    }
   ],
   "source": [
    "%%time\n",
    "easy_mmm = get_tuple_stream_mean(easyminmaxmed(easy_stream(), 1000), 3)\n",
    "print \"easy_stream min med max\", easy_mmm"
   ]
  },
  {
   "cell_type": "code",
   "execution_count": 12,
   "metadata": {
    "collapsed": false
   },
   "outputs": [
    {
     "name": "stdout",
     "output_type": "stream",
     "text": [
      "medium_stream min med max [0.02, 127.514, 254.979]\n",
      "Wall time: 4min 27s\n"
     ]
    }
   ],
   "source": [
    "%%time\n",
    "medium_mmm = get_tuple_stream_mean(mediumminmaxmed(medium_stream(), 1000), 3)\n",
    "print \"medium_stream min med max\", medium_mmm "
   ]
  },
  {
   "cell_type": "code",
   "execution_count": 13,
   "metadata": {
    "collapsed": false
   },
   "outputs": [
    {
     "name": "stdout",
     "output_type": "stream",
     "text": [
      "nightmare_stream min med max [1000380.616, 499779897.74, 999007588.072]\n",
      "Wall time: 4min 34s\n"
     ]
    }
   ],
   "source": [
    "%%time\n",
    "nightmare_mmm = get_tuple_stream_mean(mediumminmaxmed(nightmare_stream(), 1000), 3)\n",
    "print \"nightmare_stream min med max\", nightmare_mmm"
   ]
  },
  {
   "cell_type": "code",
   "execution_count": null,
   "metadata": {
    "collapsed": true
   },
   "outputs": [],
   "source": []
  },
  {
   "cell_type": "code",
   "execution_count": null,
   "metadata": {
    "collapsed": true
   },
   "outputs": [],
   "source": []
  },
  {
   "cell_type": "code",
   "execution_count": null,
   "metadata": {
    "collapsed": true
   },
   "outputs": [],
   "source": [
    " "
   ]
  }
 ],
 "metadata": {
  "anaconda-cloud": {},
  "kernelspec": {
   "display_name": "Python [conda env:dmia]",
   "language": "python",
   "name": "conda-env-dmia-py"
  },
  "language_info": {
   "codemirror_mode": {
    "name": "ipython",
    "version": 2
   },
   "file_extension": ".py",
   "mimetype": "text/x-python",
   "name": "python",
   "nbconvert_exporter": "python",
   "pygments_lexer": "ipython2",
   "version": "2.7.12"
  }
 },
 "nbformat": 4,
 "nbformat_minor": 0
}
