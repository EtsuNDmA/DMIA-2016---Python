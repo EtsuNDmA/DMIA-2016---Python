{
 "cells": [
  {
   "cell_type": "code",
   "execution_count": 69,
   "metadata": {
    "collapsed": false
   },
   "outputs": [
    {
     "name": "stdout",
     "output_type": "stream",
     "text": [
      "Symbolic loss:\n",
      "[log(1.0 + exp(-y0*yh0)), log(1.0 + exp(-y1*yh1)), log(1.0 + exp(-y2*yh2))]\n",
      "Symbolic grad:\n",
      "[-y0*exp(-y0*yh0)/(1.0 + exp(-y0*yh0)), -y1*exp(-y1*yh1)/(1.0 + exp(-y1*yh1)), -y2*exp(-y2*yh2)/(1.0 + exp(-y2*yh2))]\n"
     ]
    },
    {
     "data": {
      "text/plain": [
       "-0.731058578630005"
      ]
     },
     "execution_count": 69,
     "metadata": {},
     "output_type": "execute_result"
    }
   ],
   "source": [
    "# Символьное вычисление градиента функции потерь\n",
    "\n",
    "import sympy as sp\n",
    "num = 3\n",
    "Y = []\n",
    "Y_pred = []\n",
    "# Создаем списки символьных пременных\n",
    "for i in xrange(num):\n",
    "    Y.append(sp.Symbol('y'+str(i)))\n",
    "    Y_pred.append(sp.Symbol('yh'+str(i)))\n",
    "\n",
    "# Символьное вычисление loss\n",
    "def loss_sym(y, y_pred):\n",
    "    return sp.log(1.+sp.exp(-y*y_pred))\n",
    "\n",
    "# Попробуйте другую функциию вместо loss_sym\n",
    "# Например ту что ниже\n",
    "# def loss_sym(y, y_pred):\n",
    "#     return sp.cos(y+y_pred**2)\n",
    "\n",
    "# Вычисляем символьно loss для каждой пары из (Y, Y_pred)\n",
    "list_of_symbolic_losses = [loss_sym(y, y_pred) for y, y_pred in zip(Y, Y_pred)]\n",
    "print \"Symbolic loss:\\n\", list_of_symbolic_losses\n",
    "\n",
    "# Дифференцируем символьно каждый элемент из list_of_symbolic_losses по соответствующей переменной из Y_pred\n",
    "list_of_symbolic_diffs = [sp.diff(func, y_pred) for y_pred, func in zip(Y_pred, list_of_symbolic_losses)]\n",
    "print \"Symbolic grad:\\n\", list_of_symbolic_diffs\n",
    "\n",
    "# Подставляем числовые значения в градиент\n",
    "def loss_grad(grad_list, Y, Y_pred, Y_num, Y_pred_num):\n",
    "    from numpy import array\n",
    "    result = [grad.evalf(subs={y: y_num,\n",
    "                               y_pred: y_pred_num}\n",
    "                        ) \n",
    "              for grad, y, y_pred, y_num, y_pred_num \n",
    "              in zip(grad_list, Y, Y_pred, Y_num, Y_pred_num)]\n",
    "    return array(result)\n",
    "\n",
    "# Тут какбы спрятался один из ответов задания, не бейте сильно )))\n",
    "loss_grad(list_of_symbolic_diffs, Y, Y_pred, [-1,1,1],[-1,1,-1]).sum()\n",
    "\n"
   ]
  }
 ],
 "metadata": {
  "kernelspec": {
   "display_name": "Python [conda env:py27_env]",
   "language": "python",
   "name": "conda-env-py27_env-py"
  },
  "language_info": {
   "codemirror_mode": {
    "name": "ipython",
    "version": 2
   },
   "file_extension": ".py",
   "mimetype": "text/x-python",
   "name": "python",
   "nbconvert_exporter": "python",
   "pygments_lexer": "ipython2",
   "version": "2.7.12"
  }
 },
 "nbformat": 4,
 "nbformat_minor": 1
}
